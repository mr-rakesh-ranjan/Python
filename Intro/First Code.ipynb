{
 "cells": [
  {
   "cell_type": "markdown",
   "id": "8673dcc8",
   "metadata": {},
   "source": [
    "### First Code\n"
   ]
  },
  {
   "cell_type": "code",
   "execution_count": 11,
   "id": "a7710c10",
   "metadata": {},
   "outputs": [
    {
     "name": "stdout",
     "output_type": "stream",
     "text": [
      "Hello World\n"
     ]
    }
   ],
   "source": [
    "print(\"Hello World\")"
   ]
  },
  {
   "cell_type": "markdown",
   "id": "36bd3985",
   "metadata": {},
   "source": [
    "## Variables"
   ]
  },
  {
   "cell_type": "code",
   "execution_count": 12,
   "id": "74328a59",
   "metadata": {},
   "outputs": [
    {
     "name": "stdout",
     "output_type": "stream",
     "text": [
      "30\n",
      "10\n"
     ]
    }
   ],
   "source": [
    "a = 10\n",
    "b = 20\n",
    "\n",
    "sum = a+b\n",
    "abc = 10\n",
    "print(sum)\n",
    "print(abc)"
   ]
  },
  {
   "cell_type": "markdown",
   "id": "baf5bc80",
   "metadata": {},
   "source": [
    "## Variables Naming\n",
    "python variables names can't start with number\n"
   ]
  },
  {
   "cell_type": "code",
   "execution_count": 13,
   "id": "bca2c495",
   "metadata": {},
   "outputs": [],
   "source": [
    "ab_2 = 1\n",
    "_12 = 2"
   ]
  },
  {
   "cell_type": "markdown",
   "id": "3a5099d3",
   "metadata": {},
   "source": [
    "### assining different type of data to a variables\n"
   ]
  },
  {
   "cell_type": "code",
   "execution_count": 2,
   "id": "cee9a552",
   "metadata": {},
   "outputs": [
    {
     "name": "stdout",
     "output_type": "stream",
     "text": [
      "hthths\n"
     ]
    }
   ],
   "source": [
    "a = 10\n",
    "a = 20\n",
    "a = \"hthths\"\n",
    "print(a)\n",
    "\n"
   ]
  },
  {
   "cell_type": "markdown",
   "id": "be9a9ace",
   "metadata": {},
   "source": [
    "# "
   ]
  },
  {
   "cell_type": "code",
   "execution_count": 4,
   "id": "db19cec4",
   "metadata": {},
   "outputs": [
    {
     "name": "stdout",
     "output_type": "stream",
     "text": [
      "<class 'str'>\n"
     ]
    }
   ],
   "source": [
    "type(a)\n",
    "print(type(a))"
   ]
  },
  {
   "cell_type": "markdown",
   "id": "a01a5c55",
   "metadata": {},
   "source": [
    "# Numbers in python"
   ]
  },
  {
   "cell_type": "code",
   "execution_count": 5,
   "id": "6ab18c24",
   "metadata": {},
   "outputs": [
    {
     "name": "stdout",
     "output_type": "stream",
     "text": [
      "10\n",
      "3.2\n",
      "(3-3j)\n"
     ]
    }
   ],
   "source": [
    "a1 = 10\n",
    "a2 = 3.2\n",
    "a3 = 3 - 3j\n",
    "print(a1)\n",
    "print(a2)\n",
    "print(a3)"
   ]
  },
  {
   "cell_type": "code",
   "execution_count": null,
   "id": "36687c3b",
   "metadata": {},
   "outputs": [],
   "source": []
  },
  {
   "cell_type": "markdown",
   "id": "7ecf0d45",
   "metadata": {},
   "source": [
    "## taking input "
   ]
  },
  {
   "cell_type": "code",
   "execution_count": 2,
   "id": "cc8a11de",
   "metadata": {},
   "outputs": [
    {
     "name": "stdout",
     "output_type": "stream",
     "text": [
      "23\n"
     ]
    },
    {
     "data": {
      "text/plain": [
       "str"
      ]
     },
     "execution_count": 2,
     "metadata": {},
     "output_type": "execute_result"
    }
   ],
   "source": [
    "a  = input()\n",
    "a\n",
    "type(a)"
   ]
  },
  {
   "cell_type": "markdown",
   "id": "1878fd9a",
   "metadata": {},
   "source": [
    "### this \"input()\" command return string so we need to typecaste to other datatypes"
   ]
  },
  {
   "cell_type": "code",
   "execution_count": null,
   "id": "e017b625",
   "metadata": {},
   "outputs": [],
   "source": [
    "a = '10'\n",
    "b  = int(a) \n",
    "b"
   ]
  },
  {
   "cell_type": "code",
   "execution_count": null,
   "id": "b247c20b",
   "metadata": {},
   "outputs": [],
   "source": [
    "a = input()\n",
    "b = input()\n",
    "s = int(a) + int(b)\n",
    "print(s)"
   ]
  },
  {
   "cell_type": "markdown",
   "id": "9d16e5f2",
   "metadata": {},
   "source": [
    "#### this \"int()\" command always returns the floor value of the number rather the number is floating point number, double, or any decimal number\n"
   ]
  },
  {
   "cell_type": "markdown",
   "id": "aa979fd6",
   "metadata": {},
   "source": [
    "### \"float(input())\" commands helps in taking floating point number as user input"
   ]
  },
  {
   "cell_type": "code",
   "execution_count": 2,
   "id": "b4f6214f",
   "metadata": {},
   "outputs": [
    {
     "name": "stdout",
     "output_type": "stream",
     "text": [
      "34\n",
      "56\n",
      "90\n"
     ]
    }
   ],
   "source": [
    "#adding two number\n",
    "a = int(input())\n",
    "b = int(input())\n",
    "s = a + b\n",
    "print(s)\n",
    "\n"
   ]
  },
  {
   "cell_type": "code",
   "execution_count": 6,
   "id": "e15c3818",
   "metadata": {},
   "outputs": [
    {
     "name": "stdout",
     "output_type": "stream",
     "text": [
      "3.4\n"
     ]
    },
    {
     "data": {
      "text/plain": [
       "float"
      ]
     },
     "execution_count": 6,
     "metadata": {},
     "output_type": "execute_result"
    }
   ],
   "source": [
    "a = float(input())\n",
    "type(a)"
   ]
  },
  {
   "cell_type": "code",
   "execution_count": 1,
   "id": "c299057a",
   "metadata": {},
   "outputs": [
    {
     "name": "stdout",
     "output_type": "stream",
     "text": [
      "60\n"
     ]
    }
   ],
   "source": [
    "# simple interest calculate\n",
    "p = 1000\n",
    "r = 3\n",
    "t = 2\n",
    "si = (p*r*t)//100\n",
    "print(si)"
   ]
  },
  {
   "cell_type": "code",
   "execution_count": 3,
   "id": "9be780cc",
   "metadata": {},
   "outputs": [
    {
     "name": "stdout",
     "output_type": "stream",
     "text": [
      "1000\n",
      "3.9\n",
      "3\n"
     ]
    },
    {
     "data": {
      "text/plain": [
       "117.0"
      ]
     },
     "execution_count": 3,
     "metadata": {},
     "output_type": "execute_result"
    }
   ],
   "source": [
    "# simpple interest using user input\n",
    "p = int(input())\n",
    "r = float(input())\n",
    "t = int(input())\n",
    "si = (p*r*t)//100\n",
    "si\n"
   ]
  },
  {
   "cell_type": "markdown",
   "id": "2a402c04",
   "metadata": {},
   "source": [
    "# Boolean datatypes\n",
    "boolean has only true or false\n"
   ]
  }
 ],
 "metadata": {
  "kernelspec": {
   "display_name": "Python 3",
   "language": "python",
   "name": "python3"
  },
  "language_info": {
   "codemirror_mode": {
    "name": "ipython",
    "version": 3
   },
   "file_extension": ".py",
   "mimetype": "text/x-python",
   "name": "python",
   "nbconvert_exporter": "python",
   "pygments_lexer": "ipython3",
   "version": "3.8.8"
  }
 },
 "nbformat": 4,
 "nbformat_minor": 5
}
