{
 "cells": [
  {
   "cell_type": "code",
   "execution_count": 1,
   "id": "5dfa8a2e",
   "metadata": {},
   "outputs": [
    {
     "ename": "SyntaxError",
     "evalue": "invalid syntax (<ipython-input-1-552792b81336>, line 1)",
     "output_type": "error",
     "traceback": [
      "\u001b[1;36m  File \u001b[1;32m\"<ipython-input-1-552792b81336>\"\u001b[1;36m, line \u001b[1;32m1\u001b[0m\n\u001b[1;33m    a = 'this is rakes's pen'\u001b[0m\n\u001b[1;37m                       ^\u001b[0m\n\u001b[1;31mSyntaxError\u001b[0m\u001b[1;31m:\u001b[0m invalid syntax\n"
     ]
    }
   ],
   "source": [
    "a = 'this is rakes's pen'"
   ]
  },
  {
   "cell_type": "code",
   "execution_count": 2,
   "id": "891d4baa",
   "metadata": {},
   "outputs": [],
   "source": [
    "a = \"this is rakesh's pen \""
   ]
  },
  {
   "cell_type": "code",
   "execution_count": 3,
   "id": "a25f9e7b",
   "metadata": {},
   "outputs": [],
   "source": [
    "b = 'He said \"Life is Great\"'"
   ]
  },
  {
   "cell_type": "code",
   "execution_count": 5,
   "id": "f5db0a2a",
   "metadata": {},
   "outputs": [
    {
     "name": "stdout",
     "output_type": "stream",
     "text": [
      "this is rakesh's pen He said \"Life is Great\"\n"
     ]
    }
   ],
   "source": [
    "print( a + b)"
   ]
  },
  {
   "cell_type": "code",
   "execution_count": 6,
   "id": "758461f7",
   "metadata": {},
   "outputs": [
    {
     "data": {
      "text/plain": [
       "\"this is Rakesh's pen\""
      ]
     },
     "execution_count": 6,
     "metadata": {},
     "output_type": "execute_result"
    }
   ],
   "source": [
    "a = 'this is Rakesh\\'s pen'\n",
    "a"
   ]
  },
  {
   "cell_type": "code",
   "execution_count": 7,
   "id": "c5888611",
   "metadata": {},
   "outputs": [
    {
     "data": {
      "text/plain": [
       "'this is Rakesh\\'s penHe said \"Life is Great\"'"
      ]
     },
     "execution_count": 7,
     "metadata": {},
     "output_type": "execute_result"
    }
   ],
   "source": [
    "a + b # '+' is used for concatation of the string"
   ]
  },
  {
   "cell_type": "code",
   "execution_count": 8,
   "id": "b74921df",
   "metadata": {},
   "outputs": [
    {
     "data": {
      "text/plain": [
       "False"
      ]
     },
     "execution_count": 8,
     "metadata": {},
     "output_type": "execute_result"
    }
   ],
   "source": [
    "a == b  # camparing the strig "
   ]
  },
  {
   "cell_type": "code",
   "execution_count": 9,
   "id": "fc760cf7",
   "metadata": {},
   "outputs": [
    {
     "data": {
      "text/plain": [
       "True"
      ]
     },
     "execution_count": 9,
     "metadata": {},
     "output_type": "execute_result"
    }
   ],
   "source": [
    "\n",
    "a > b \n"
   ]
  },
  {
   "cell_type": "markdown",
   "id": "44391622",
   "metadata": {},
   "source": [
    " # Note\n",
    " \n",
    " * Capital letters are smaller than lower case letters\n",
    " e.g. 'Z' < 'a'\n",
    "      'a' > 'z'"
   ]
  },
  {
   "cell_type": "code",
   "execution_count": 10,
   "id": "2311c98c",
   "metadata": {},
   "outputs": [
    {
     "data": {
      "text/plain": [
       "['this', 'is', 'a', 'str']"
      ]
     },
     "execution_count": 10,
     "metadata": {},
     "output_type": "execute_result"
    }
   ],
   "source": [
    "#split\n",
    "a = \"this is a str\"\n",
    "a.split() #split() function splitting the string around ' ' if no argument is passed otherwise it splits the string around the argument which you passed.\n"
   ]
  },
  {
   "cell_type": "code",
   "execution_count": 11,
   "id": "dd336338",
   "metadata": {},
   "outputs": [
    {
     "data": {
      "text/plain": [
       "'thare are a str'"
      ]
     },
     "execution_count": 11,
     "metadata": {},
     "output_type": "execute_result"
    }
   ],
   "source": [
    "a.replace('is', 'are') #replace() functions replace all the string from 1st argument to 2nd argument"
   ]
  },
  {
   "cell_type": "code",
   "execution_count": 12,
   "id": "c1def204",
   "metadata": {},
   "outputs": [
    {
     "data": {
      "text/plain": [
       "2"
      ]
     },
     "execution_count": 12,
     "metadata": {},
     "output_type": "execute_result"
    }
   ],
   "source": [
    "a.find('is') #find the string which is passing as argument in the functions if present then return its index otherwise -1"
   ]
  },
  {
   "cell_type": "code",
   "execution_count": 13,
   "id": "e5e6762d",
   "metadata": {},
   "outputs": [
    {
     "data": {
      "text/plain": [
       "'this is a str'"
      ]
     },
     "execution_count": 13,
     "metadata": {},
     "output_type": "execute_result"
    }
   ],
   "source": [
    "a.lower()#convert all the string in lower case letter"
   ]
  },
  {
   "cell_type": "code",
   "execution_count": 14,
   "id": "fbcd86e7",
   "metadata": {},
   "outputs": [
    {
     "data": {
      "text/plain": [
       "'THIS IS A STR'"
      ]
     },
     "execution_count": 14,
     "metadata": {},
     "output_type": "execute_result"
    }
   ],
   "source": [
    "a.upper() #convert all the string in upper case letter"
   ]
  },
  {
   "cell_type": "code",
   "execution_count": 15,
   "id": "579cf534",
   "metadata": {},
   "outputs": [
    {
     "data": {
      "text/plain": [
       "True"
      ]
     },
     "execution_count": 15,
     "metadata": {},
     "output_type": "execute_result"
    }
   ],
   "source": [
    "a.islower() # checking lower case letter is present or not in the string "
   ]
  },
  {
   "cell_type": "code",
   "execution_count": 16,
   "id": "e84df719",
   "metadata": {},
   "outputs": [
    {
     "data": {
      "text/plain": [
       "False"
      ]
     },
     "execution_count": 16,
     "metadata": {},
     "output_type": "execute_result"
    }
   ],
   "source": [
    "a.isupper() # checking Upper case letter is present or not in the string "
   ]
  },
  {
   "cell_type": "code",
   "execution_count": 17,
   "id": "f08f0358",
   "metadata": {},
   "outputs": [
    {
     "data": {
      "text/plain": [
       "False"
      ]
     },
     "execution_count": 17,
     "metadata": {},
     "output_type": "execute_result"
    }
   ],
   "source": [
    "a.isalpha() #checking ' ' (space) present in the string or not"
   ]
  },
  {
   "cell_type": "code",
   "execution_count": 21,
   "id": "ab0e457a",
   "metadata": {},
   "outputs": [
    {
     "ename": "TypeError",
     "evalue": "startswith() takes at least 1 argument (0 given)",
     "output_type": "error",
     "traceback": [
      "\u001b[1;31m---------------------------------------------------------------------------\u001b[0m",
      "\u001b[1;31mTypeError\u001b[0m                                 Traceback (most recent call last)",
      "\u001b[1;32m<ipython-input-21-1c032c7bc1fb>\u001b[0m in \u001b[0;36m<module>\u001b[1;34m\u001b[0m\n\u001b[1;32m----> 1\u001b[1;33m \u001b[0ma\u001b[0m\u001b[1;33m.\u001b[0m\u001b[0mstartswith\u001b[0m\u001b[1;33m(\u001b[0m\u001b[1;33m)\u001b[0m\u001b[1;33m\u001b[0m\u001b[1;33m\u001b[0m\u001b[0m\n\u001b[0m",
      "\u001b[1;31mTypeError\u001b[0m: startswith() takes at least 1 argument (0 given)"
     ]
    }
   ],
   "source": [
    "a.startswith()"
   ]
  },
  {
   "cell_type": "code",
   "execution_count": 23,
   "id": "06c93857",
   "metadata": {},
   "outputs": [
    {
     "data": {
      "text/plain": [
       "True"
      ]
     },
     "execution_count": 23,
     "metadata": {},
     "output_type": "execute_result"
    }
   ],
   "source": [
    "\n",
    "a.startswith('t') #checking the string starting string"
   ]
  },
  {
   "cell_type": "code",
   "execution_count": null,
   "id": "665e81f6",
   "metadata": {},
   "outputs": [],
   "source": []
  }
 ],
 "metadata": {
  "kernelspec": {
   "display_name": "Python 3",
   "language": "python",
   "name": "python3"
  },
  "language_info": {
   "codemirror_mode": {
    "name": "ipython",
    "version": 3
   },
   "file_extension": ".py",
   "mimetype": "text/x-python",
   "name": "python",
   "nbconvert_exporter": "python",
   "pygments_lexer": "ipython3",
   "version": "3.8.8"
  }
 },
 "nbformat": 4,
 "nbformat_minor": 5
}
