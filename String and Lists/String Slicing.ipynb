{
 "cells": [
  {
   "cell_type": "markdown",
   "id": "46d1db87",
   "metadata": {},
   "source": [
    " ## String Slicing\n",
    " a ='string' \n",
    " a[si:ci]\n",
    "     where si - starting index\n",
    "           ci - ending index\n",
    "    * string is array of chararcter."
   ]
  },
  {
   "cell_type": "code",
   "execution_count": 1,
   "id": "7263f2fa",
   "metadata": {},
   "outputs": [],
   "source": [
    "a = 'this is slicing '"
   ]
  },
  {
   "cell_type": "code",
   "execution_count": 2,
   "id": "690de42c",
   "metadata": {},
   "outputs": [
    {
     "data": {
      "text/plain": [
       "'is '"
      ]
     },
     "execution_count": 2,
     "metadata": {},
     "output_type": "execute_result"
    }
   ],
   "source": [
    "a[2:5]"
   ]
  },
  {
   "cell_type": "code",
   "execution_count": 3,
   "id": "6e66016e",
   "metadata": {},
   "outputs": [
    {
     "data": {
      "text/plain": [
       "'is sl'"
      ]
     },
     "execution_count": 3,
     "metadata": {},
     "output_type": "execute_result"
    }
   ],
   "source": [
    "a[5:10]"
   ]
  },
  {
   "cell_type": "code",
   "execution_count": 4,
   "id": "810be42d",
   "metadata": {},
   "outputs": [
    {
     "data": {
      "text/plain": [
       "'is is slicing '"
      ]
     },
     "execution_count": 4,
     "metadata": {},
     "output_type": "execute_result"
    }
   ],
   "source": [
    "a[2:]"
   ]
  },
  {
   "cell_type": "code",
   "execution_count": 5,
   "id": "393abccd",
   "metadata": {},
   "outputs": [
    {
     "data": {
      "text/plain": [
       "'this'"
      ]
     },
     "execution_count": 5,
     "metadata": {},
     "output_type": "execute_result"
    }
   ],
   "source": [
    "a[:4]"
   ]
  },
  {
   "cell_type": "code",
   "execution_count": 7,
   "id": "cec3c443",
   "metadata": {},
   "outputs": [
    {
     "data": {
      "text/plain": [
       "'i ss'"
      ]
     },
     "execution_count": 7,
     "metadata": {},
     "output_type": "execute_result"
    }
   ],
   "source": [
    "a[2:10:2]"
   ]
  },
  {
   "cell_type": "code",
   "execution_count": 8,
   "id": "5ea05a07",
   "metadata": {},
   "outputs": [
    {
     "data": {
      "text/plain": [
       "'ils si s'"
      ]
     },
     "execution_count": 8,
     "metadata": {},
     "output_type": "execute_result"
    }
   ],
   "source": [
    "a[10:2:-1]"
   ]
  },
  {
   "cell_type": "code",
   "execution_count": 13,
   "id": "2b75f67e",
   "metadata": {},
   "outputs": [
    {
     "name": "stdout",
     "output_type": "stream",
     "text": [
      "judhxiih\n"
     ]
    },
    {
     "data": {
      "text/plain": [
       "'judhyiih'"
      ]
     },
     "execution_count": 13,
     "metadata": {},
     "output_type": "execute_result"
    }
   ],
   "source": [
    "#repalce 1st occurance of a with b \n",
    "s = input()\n",
    "a = 'x'\n",
    "b = 'y'\n",
    "p = s.find(a)\n",
    "ans = s\n",
    "if p!= -1:\n",
    "    ans = s[:p]+ b + s[p + 1:]\n",
    "ans"
   ]
  },
  {
   "cell_type": "code",
   "execution_count": null,
   "id": "5a253f26",
   "metadata": {},
   "outputs": [],
   "source": [
    "#repalce all occurance of a with b\n",
    "s = input()\n",
    "a = 'x'\n",
    "b = 'y'\n",
    "for i in range (0, len(s)):\n",
    "    if s[i] == a :\n",
    "        ans = ans[:i]+ b + ans[i+1:]\n",
    "ans        \n"
   ]
  },
  {
   "cell_type": "code",
   "execution_count": 3,
   "id": "b2e9d8b6",
   "metadata": {},
   "outputs": [
    {
     "name": "stdout",
     "output_type": "stream",
     "text": [
      "jixjdksxkoix\n"
     ]
    },
    {
     "data": {
      "text/plain": [
       "'jiyjdksykoiy'"
      ]
     },
     "execution_count": 3,
     "metadata": {},
     "output_type": "execute_result"
    }
   ],
   "source": [
    "#repalce all occurance of a with b\n",
    "s = input()\n",
    "a = 'x'\n",
    "b = 'y'\n",
    "ans = s\n",
    "for i in range (0, len(ans)):\n",
    "    if s[i] == a :\n",
    "        ans = ans[:i]+ b + ans[i+1:]\n",
    "ans        \n"
   ]
  },
  {
   "cell_type": "code",
   "execution_count": null,
   "id": "94c25427",
   "metadata": {},
   "outputs": [],
   "source": []
  }
 ],
 "metadata": {
  "kernelspec": {
   "display_name": "Python 3",
   "language": "python",
   "name": "python3"
  },
  "language_info": {
   "codemirror_mode": {
    "name": "ipython",
    "version": 3
   },
   "file_extension": ".py",
   "mimetype": "text/x-python",
   "name": "python",
   "nbconvert_exporter": "python",
   "pygments_lexer": "ipython3",
   "version": "3.8.8"
  }
 },
 "nbformat": 4,
 "nbformat_minor": 5
}
